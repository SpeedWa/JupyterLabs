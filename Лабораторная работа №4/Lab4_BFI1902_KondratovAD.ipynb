{
 "cells": [
  {
   "cell_type": "markdown",
   "metadata": {},
   "source": [
    "# Лабораторная работа №4\n",
    "## Выполнил студент группы БФИ1902 Кондратов А.Д. "
   ]
  },
  {
   "cell_type": "markdown",
   "metadata": {},
   "source": [
    "# Цель лабораторной работы\n",
    "## Реализовать следующие структуры данных:\n",
    "● Стек (stack):\n",
    "операции для стека: инициализация, проверка на пустоту, добавление нового элемента в начало, извлечение элемента из начала;\n",
    "\n",
    "● Дек (двусторонняя очередь, deque):\n",
    "операции для дека: инициализация, проверка на пустоту, добавление нового элемента в начало, добавление нового элемента в конец, извлечение элемента из начала, извлечение элемента из конца.\n",
    "\n",
    "Разработать программу обработки данных, содержащихся в заранее подготовленном txt-файле, в соответствии с заданиями, применив указанную в задании структуру данных. \n",
    "\n",
    "Результат работы программы вывести на экран и сохранить в отдельном txt-файле.\n",
    "Оформить отчет о лабораторной работе в ipynb или pdf-файле."
   ]
  },
  {
   "cell_type": "markdown",
   "metadata": {},
   "source": [
    "## Задания:\n",
    "1. Отсортировать строки файла, содержащие названия книг, в алфавитном порядке с использованием двух деков.\n",
    "2. Дек содержит последовательность символов для шифровки сообщений. Дан текстовый файл, содержащий зашифрованное сообщение. Пользуясь деком, расшифровать текст. Известно, что при шифровке каждый символ сообщения заменялся следующим за ним в деке по часовой стрелке через один.\n",
    "3. Даны три стержня и n дисков различного размера. Диски можно надевать на стержни, образуя из них башни. Перенести n дисков со стержня А на стержень С, сохранив их первоначальный порядок. При переносе дисков необходимо соблюдать следующие правила:\n",
    "- на каждом шаге со стержня на стержень переносить только один диск;\n",
    "- диск нельзя помещать на диск меньшего размера;\n",
    "- для промежуточного хранения можно использовать стержень В.\n",
    "Реализовать алгоритм, используя три стека вместо стержней А, В, С. Информация о дисках хранится в исходном файле.\n",
    "4. Дан текстовый файл с программой на алгоритмическом языке. За один просмотр файла проверить баланс круглых скобок в тексте, используя стек.\n",
    "5. Дан текстовый файл с программой на алгоритмическом языке. За один просмотр файла проверить баланс квадратных скобок в тексте, используя дек.\n",
    "6. Дан файл из символов. Используя стек, за один просмотр файла напечатать сначала все цифры, затем все буквы, и, наконец, все остальные символы, сохраняя исходный порядок в каждой группе символов.\n",
    "7. Дан файл из целых чисел. Используя дек, за один просмотр файла напечатать сначала все отрицательные числа, затем все положительные числа, сохраняя исходный порядок в каждой группе.\n",
    "8. Дан текстовый файл. Используя стек, сформировать новый текстовый файл, содержащий строки исходного файла, записанные в обратном порядке: первая строка становится последней, вторая – предпоследней и т.д.\n",
    "9. Дан текстовый файл. Используя стек, вычислить значение логического выражения, записанного в текстовом файле в следующей форме:\n",
    "< ЛВ > ::= T | F | (N<ЛВ>) | (<ЛВ>A<ЛВ>) | (<ЛВ>X<ЛВ>) | (<ЛВ>O<ЛВ>),\n",
    "где буквами обозначены логические константы и операции:\n",
    "T – True, F – False, N – Not, A – And, X – Xor, O – Or.\n",
    "10. Дан текстовый файл. В текстовом файле записана формула следующего вида:\n",
    "<Формула> ::= <Цифра> | M(<Формула>,<Формула>) | N(Формула>,<Формула>)\n",
    "< Цифра > ::= 0 | 1 | 2 | 3 | 4 | 5 | 6 | 7 | 8 | 9\n",
    "где буквами обозначены функции:\n",
    "M – определение максимума, N – определение минимума.\n",
    "Используя стек, вычислить значение заданного выражения.\n",
    "11. Дан текстовый файл. Используя стек, проверить, является ли содержимое текстового файла правильной записью формулы вида:\n",
    "< Формула > ::= < Терм > | < Терм > + < Формула > | < Терм > - < Формула >\n",
    "< Терм > ::= < Имя > | (< Формула >)\n",
    "< Имя > ::= x | y | z"
   ]
  },
  {
   "cell_type": "markdown",
   "metadata": {},
   "source": [
    "## Реализация стека и очереди"
   ]
  },
  {
   "cell_type": "code",
   "execution_count": 16,
   "metadata": {},
   "outputs": [],
   "source": [
    "class LinkedNode:\n",
    "    # Связный список с ссылками на предыдущий и следующий элемент\n",
    "    def __init__(self, value=None):\n",
    "        self.value = value\n",
    "        self.right = None\n",
    "        self.left = None\n",
    "\n",
    "\n",
    "class Stack:    \n",
    "    def __init__(self):\n",
    "        self.head = LinkedNode()\n",
    "        self.size = 0\n",
    "\n",
    "    # Проверка на пустату\n",
    "    def is_empty(self):\n",
    "        return self.size == 0\n",
    "\n",
    "    # Добавление\n",
    "    def push(self, value):\n",
    "        if self.size > 0:\n",
    "            node = LinkedNode(value)\n",
    "            node.right = self.head\n",
    "            self.head = node\n",
    "        else:\n",
    "            self.head.value = value\n",
    "        self.size += 1\n",
    "      \n",
    "    # Удаление\n",
    "    def pop(self):\n",
    "        if self.is_empty():\n",
    "            raise Exception(\"Popping from an empty stack\")\n",
    "        remove = self.head\n",
    "        if self.size > 1:\n",
    "            self.head = remove.right\n",
    "        self.size -= 1\n",
    "        return remove.value\n",
    "    \n",
    "    \n",
    "    def peek(self):\n",
    "        if self.is_empty():\n",
    "            raise Exception(\"Peeking into an empty stack\")\n",
    "        return self.head.value\n",
    "    \n",
    "    def __len__(self):\n",
    "        return self.size\n",
    "\n",
    "    def reverse(self):\n",
    "        current = self.head\n",
    "        prev = None\n",
    "        next = None\n",
    " \n",
    "        while current is not None:\n",
    "            next = current.right\n",
    "            current.right = prev\n",
    "            prev = current\n",
    "            current = next\n",
    "\n",
    "        self.head = prev\n",
    "            \n",
    "class Deque:\n",
    "    def __init__(self):\n",
    "        self.head = LinkedNode()\n",
    "        self.tail = self.head\n",
    "        self.size = 0\n",
    "        \n",
    "    # Проверка на пустату \n",
    "    def is_empty(self):\n",
    "        return self.size == 0\n",
    "\n",
    "    # Добавление в конец\n",
    "    def push_back(self, value):\n",
    "        if self.size > 0:\n",
    "            node = LinkedNode(value)\n",
    "            node.right = self.tail\n",
    "            self.tail.left = node\n",
    "            self.tail = node\n",
    "        else:\n",
    "            self.tail.value = value\n",
    "        self.size += 1\n",
    "\n",
    "    # Добавление в начало\n",
    "    def push_front(self, value):\n",
    "        if self.size > 0:\n",
    "            node = LinkedNode(value)\n",
    "            node.left = self.head\n",
    "            self.head.right = node\n",
    "            self.head = node\n",
    "        else:\n",
    "            self.head.value = value\n",
    "        self.size += 1\n",
    "    \n",
    "    # Удаление в конец\n",
    "    def pop_back(self):\n",
    "        if self.is_empty():\n",
    "            raise Exception(\"Popping from an empty deque\")\n",
    "        remove = self.tail\n",
    "        if self.size > 1:\n",
    "            self.tail = remove.right\n",
    "        self.size -= 1\n",
    "        return remove.value\n",
    "    \n",
    "    # Удаление в начале\n",
    "    def pop_front(self):\n",
    "        if self.is_empty():\n",
    "            raise Exception(\"Popping from an empty deque\")\n",
    "        remove = self.head\n",
    "        if self.size > 1:\n",
    "            self.head = remove.left\n",
    "        self.size -= 1\n",
    "        return remove.value\n",
    "    \n",
    "    def peek_front(self):\n",
    "        if self.is_empty():\n",
    "            raise Exception(\"Peeking into an empty deque\")\n",
    "        return self.head.value\n",
    "    \n",
    "    def peek_back(self):\n",
    "        if self.is_empty():\n",
    "            raise Exception(\"Peeking into an empty deque\")\n",
    "        return self.tail.value\n",
    "\n",
    "    def __len__(self):\n",
    "        return self.size"
   ]
  },
  {
   "cell_type": "markdown",
   "metadata": {},
   "source": [
    "## Задание 1\n",
    "Отсортировать строки файла, содержащие названия книг, в алфавитном порядке с использованием двух деков."
   ]
  },
  {
   "cell_type": "code",
   "execution_count": 17,
   "metadata": {},
   "outputs": [
    {
     "name": "stdout",
     "output_type": "stream",
     "text": [
      "Carrie\n",
      "\n",
      "Dark Tower\n",
      "\n",
      "It\n",
      "\n",
      "Kujo\n",
      "\n",
      "Shining\n",
      "\n"
     ]
    }
   ],
   "source": [
    "with open('books.txt', 'r') as books:\n",
    "    d1 = Deque()\n",
    "    d2 = Deque()\n",
    "    for book in books:\n",
    "        d1.push_front(book)\n",
    "    while not d1.is_empty():\n",
    "        a = d1.pop_front()\n",
    "        while not d2.is_empty() and d2.peek_front() > a:\n",
    "            d1.push_back(d2.pop_front())\n",
    "        d2.push_front(a)\n",
    "    while not d2.is_empty():\n",
    "        print(d2.pop_back())"
   ]
  },
  {
   "cell_type": "markdown",
   "metadata": {},
   "source": [
    "## Задание 2\n",
    "Дек содержит последовательность символов для шифровки сообщений. Дан текстовый файл, содержащий зашифрованное сообщение. Пользуясь деком, расшифровать текст. Известно, что при шифровке каждый символ сообщения заменялся следующим за ним в деке по часовой стрелке через один."
   ]
  },
  {
   "cell_type": "code",
   "execution_count": 24,
   "metadata": {},
   "outputs": [
    {
     "name": "stdout",
     "output_type": "stream",
     "text": [
      "yzab\n"
     ]
    }
   ],
   "source": [
    "def decrypt_text(text: str):\n",
    "    decrypted_text = ''\n",
    "    crypt_key = 'abcdefghigklmnopqrstuvwxyz'\n",
    "    dequeue = Dequeue()\n",
    "\n",
    "    for i in range(len(crypt_key)):\n",
    "        dequeue.push_back(crypt_key[i])\n",
    "\n",
    "    for i in range(len(text)):\n",
    "        char = None\n",
    "\n",
    "        while char != text[i]:\n",
    "            char = dequeue.pop_front()\n",
    "            dequeue.push_back(char)\n",
    "\n",
    "        for j in range(3):\n",
    "            dequeue.push_front(dequeue.pop_back())\n",
    "\n",
    "        original_char = dequeue.pop_front()\n",
    "        dequeue.push_back(original_char)\n",
    "\n",
    "        decrypted_text += original_char\n",
    "\n",
    "    return decrypted_text\n",
    "\n",
    "with open('encrypted.txt', 'r') as file:\n",
    "    message = file.readline()\n",
    "    print(decrypt_text(message.rstrip()))"
   ]
  },
  {
   "cell_type": "markdown",
   "metadata": {},
   "source": [
    "## Задание 3\n",
    "Даны три стержня и n дисков различного размера. Диски можно надевать на\n",
    "стержни, образуя из них башни. Перенести n дисков со стержня А на стержень С,\n",
    "сохранив их первоначальный порядок. При переносе дисков необходимо соблюдать\n",
    "следующие правила:\n",
    "- на каждом шаге со стержня на стержень переносить только один диск;\n",
    "- диск нельзя помещать на диск меньшего размера;\n",
    "- для промежуточного хранения можно использовать стержень В.\n",
    "Реализовать алгоритм, используя три стека вместо стержней А, В, С. Информация\n",
    "о дисках хранится в исходном файле."
   ]
  },
  {
   "cell_type": "code",
   "execution_count": 25,
   "metadata": {},
   "outputs": [
    {
     "name": "stdout",
     "output_type": "stream",
     "text": [
      "1\n",
      "2\n",
      "3\n",
      "4\n",
      "5\n",
      "6\n",
      "7\n",
      "8\n",
      "9\n",
      "10\n"
     ]
    }
   ],
   "source": [
    "A = Stack()\n",
    "B = Stack()\n",
    "C = Stack()\n",
    "\n",
    "disks = 10\n",
    "\n",
    "for i in range(disks, 0, -1):\n",
    "    A.push(i)\n",
    "\n",
    "def move(a, b):\n",
    "    if len(a) == 0 and len(b) > 0:\n",
    "        a.push(b.pop())\n",
    "    elif len(a) > 0 and len(b) == 0:\n",
    "        b.push(a.pop())\n",
    "    elif a.peek() > b.peek():\n",
    "        a.push(b.pop())\n",
    "    else:\n",
    "        b.push(a.pop())\n",
    "\n",
    "if disks % 2 == 0:\n",
    "    while len(C) != disks:\n",
    "        move(A, B)\n",
    "        move(A, C)\n",
    "        move(B, C)\n",
    "else:\n",
    "    while len(C) != disks:\n",
    "        move(A, C)\n",
    "        move(A, B)\n",
    "        move(B, C)\n",
    "\n",
    "while not C.is_empty():\n",
    "    print(C.pop())"
   ]
  },
  {
   "cell_type": "markdown",
   "metadata": {},
   "source": [
    "## Задание 4\n",
    "Дан текстовый файл с программой на алгоритмическом языке. За один просмотр файла проверить баланс круглых скобок в тексте, используя стек."
   ]
  },
  {
   "cell_type": "code",
   "execution_count": 27,
   "metadata": {},
   "outputs": [
    {
     "name": "stdout",
     "output_type": "stream",
     "text": [
      "True\n"
     ]
    }
   ],
   "source": [
    "def has_parenthesis_balance(string):\n",
    "    stack = Stack()\n",
    "\n",
    "    for i in range(len(string)):\n",
    "        if string[i] == '(':\n",
    "            stack.push('(')\n",
    "\n",
    "        if string[i] == ')':\n",
    "            stack.pop()\n",
    "\n",
    "    return stack.is_empty()\n",
    "\n",
    "with open('parenthesis.txt', 'r') as file:\n",
    "    message = file.readline()\n",
    "    print(has_parenthesis_balance(message.rstrip()))"
   ]
  },
  {
   "cell_type": "markdown",
   "metadata": {},
   "source": [
    "## Задание 5\n",
    "Дан текстовый файл с программой на алгоритмическом языке. За один просмотр файла проверить баланс квадратных скобок в тексте, используя дек."
   ]
  },
  {
   "cell_type": "code",
   "execution_count": 28,
   "metadata": {},
   "outputs": [
    {
     "name": "stdout",
     "output_type": "stream",
     "text": [
      "True\n"
     ]
    }
   ],
   "source": [
    "def has_square_brackets_balance(string):\n",
    "    dequeue = Dequeue()\n",
    "\n",
    "    for i in range(len(string)):\n",
    "        if string[i] == '[':\n",
    "            dequeue.push_front('[')\n",
    "\n",
    "        if string[i] == ']':\n",
    "            dequeue.push_back(']')\n",
    "\n",
    "    opened_bracket = '['\n",
    "\n",
    "    while opened_bracket == '[':\n",
    "        closed_bracket = dequeue.pop_back()\n",
    "\n",
    "        if closed_bracket == ']':\n",
    "            opened_bracket = dequeue.pop_front()\n",
    "        else:\n",
    "            dequeue.push_back(closed_bracket)\n",
    "            break\n",
    "\n",
    "    return dequeue.is_empty()\n",
    "\n",
    "\n",
    "with open('brackets.txt', 'r') as file:\n",
    "    message = file.readline()\n",
    "    print(has_square_brackets_balance(message.rstrip()))"
   ]
  },
  {
   "cell_type": "markdown",
   "metadata": {},
   "source": [
    "## Задание 6\n",
    "Дан файл из символов. Используя стек, за один просмотр файла напечатать сначала все цифры, затем все буквы, и, наконец, все остальные символы, сохраняя исходный порядок в каждой группе символов."
   ]
  },
  {
   "cell_type": "code",
   "execution_count": 30,
   "metadata": {},
   "outputs": [
    {
     "name": "stdout",
     "output_type": "stream",
     "text": [
      "12331123stackdeck#\n"
     ]
    }
   ],
   "source": [
    "def separate_by_content(string):\n",
    "    final_string = ''\n",
    "    digits = Stack()\n",
    "    letters = Stack()\n",
    "    special_chars = Stack()\n",
    "\n",
    "    for i in range(len(string)):\n",
    "        char = string[i]\n",
    "\n",
    "        if ord(char) in range(ord('0'), ord('9') + 1):\n",
    "            digits.push(char)\n",
    "        elif ord(char) in range(ord('A'), ord('z') + 1):\n",
    "            letters.push(char)\n",
    "        else:\n",
    "            special_chars.push(char)\n",
    "\n",
    "    digits.reverse()\n",
    "    letters.reverse()\n",
    "    special_chars.reverse()\n",
    "\n",
    "    while not digits.is_empty():\n",
    "        final_string += digits.pop()\n",
    "\n",
    "    while not letters.is_empty():\n",
    "        final_string += letters.pop()\n",
    "\n",
    "    while not special_chars.is_empty():\n",
    "        final_string += special_chars.pop()\n",
    "\n",
    "    return final_string\n",
    "\n",
    "\n",
    "with open('random_content.txt', 'r') as file:\n",
    "    message = file.readline()\n",
    "    print(separate_by_content(message.rstrip()))"
   ]
  },
  {
   "cell_type": "markdown",
   "metadata": {},
   "source": [
    "## Задание 7\n",
    "Дан файл из целых чисел. Используя дек, за один просмотр файла напечатать сначала все отрицательные числа, затем все положительные числа, сохраняя исходный порядок в каждой группе."
   ]
  },
  {
   "cell_type": "code",
   "execution_count": 31,
   "metadata": {},
   "outputs": [
    {
     "name": "stdout",
     "output_type": "stream",
     "text": [
      "-21 -1 0 15 16 19 44 \n"
     ]
    }
   ],
   "source": [
    "def sort_numbers(string):\n",
    "    final_string = ''\n",
    "    numbers = Dequeue()\n",
    "    string_numbers = string.split()\n",
    "\n",
    "    for i in range(len(string_numbers)):\n",
    "        number = int(string_numbers[i])\n",
    "\n",
    "        if number < 0:\n",
    "            numbers.push_back(number)\n",
    "        else:\n",
    "            numbers.push_front(number)\n",
    "\n",
    "    number = numbers.pop_front()\n",
    "\n",
    "    while number >= 0:\n",
    "        numbers.push_back(number)\n",
    "        number = numbers.pop_front()\n",
    "\n",
    "    final_string += str(number) + ' '\n",
    "\n",
    "    while number < 0:\n",
    "        number = numbers.pop_front()\n",
    "        final_string += str(number) + ' '\n",
    "\n",
    "    while not numbers.is_empty():\n",
    "        number = numbers.pop_back()\n",
    "        final_string += str(number) + ' '\n",
    "\n",
    "    return final_string\n",
    "\n",
    "\n",
    "with open('numbers.txt', 'r') as file:\n",
    "    message = file.readline()\n",
    "    print(sort_numbers(message.rstrip()))"
   ]
  },
  {
   "cell_type": "markdown",
   "metadata": {},
   "source": [
    "## Задание 8\n",
    "Дан текстовый файл. Используя стек, сформировать новый текстовый файл, содержащий строки исходного файла, записанные в обратном порядке: первая строка становится последней, вторая – предпоследней и т.д."
   ]
  },
  {
   "cell_type": "code",
   "execution_count": 10,
   "metadata": {},
   "outputs": [
    {
     "name": "stdout",
     "output_type": "stream",
     "text": [
      "['Third', 'Second', 'First']\n"
     ]
    }
   ],
   "source": [
    "def revert_strings(strings: list):\n",
    "    reverted_strings = []\n",
    "    stack = Stack()\n",
    "\n",
    "    for i in range(len(strings)):\n",
    "        stack.push(strings[i])\n",
    "\n",
    "    while not stack.is_empty():\n",
    "        reverted_strings.append(stack.pop())\n",
    "\n",
    "    return reverted_strings\n",
    "\n",
    "\n",
    "print(revert_strings(['First', 'Second', 'Third']))"
   ]
  },
  {
   "cell_type": "markdown",
   "metadata": {},
   "source": [
    "## Задание 9\n",
    "Дан текстовый файл. Используя стек, вычислить значение логического выражения, записанного в текстовом файле в следующей форме:\n",
    "< ЛВ > ::= T | F | (N<ЛВ>) | (<ЛВ>A<ЛВ>) | (<ЛВ>X<ЛВ>) | (<ЛВ>O<ЛВ>), где буквами обозначены логические константы и операции:\n",
    "T – True, F – False, N – Not, A – And, X – Xor, O – Or."
   ]
  },
  {
   "cell_type": "code",
   "execution_count": 34,
   "metadata": {},
   "outputs": [
    {
     "name": "stdout",
     "output_type": "stream",
     "text": [
      "T\n"
     ]
    }
   ],
   "source": [
    "text = '((T)XF)X(TAT)OT'\n",
    "\n",
    "opstack = Stack()\n",
    "vstack = Stack()\n",
    "\n",
    "cur = 0\n",
    "while True:\n",
    "    read = False\n",
    "    if not opstack.is_empty():\n",
    "        if opstack.peek() == 'N':\n",
    "            if vstack.is_empty():\n",
    "                read = True\n",
    "            else:\n",
    "                if vstack.pop() == 'T':\n",
    "                    vstack.push('F')\n",
    "                else:\n",
    "                    vstack.push('T')\n",
    "                opstack.pop()\n",
    "        elif opstack.peek() == 'A':\n",
    "            if len(vstack) < 2:\n",
    "                read = True\n",
    "            else:\n",
    "                a = vstack.pop()\n",
    "                b = vstack.pop()\n",
    "                if a == b and b == 'T':\n",
    "                    vstack.push('T')\n",
    "                else:\n",
    "                    vstack.push('F')\n",
    "                opstack.pop()\n",
    "        elif opstack.peek() == 'O':\n",
    "            if len(vstack) < 2:\n",
    "                read = True\n",
    "            else:\n",
    "                a = vstack.pop()\n",
    "                b = vstack.pop()\n",
    "                if a == 'T' or b == 'T':\n",
    "                    vstack.push('T')\n",
    "                else:\n",
    "                    vstack.push('F')\n",
    "                opstack.pop()\n",
    "        elif opstack.peek() == 'X':\n",
    "            if len(vstack) < 2:\n",
    "                read = True\n",
    "            else:\n",
    "                a = vstack.pop()\n",
    "                b = vstack.pop()\n",
    "                if a != b:\n",
    "                    vstack.push('T')\n",
    "                else:\n",
    "                    vstack.push('F')\n",
    "                opstack.pop()\n",
    "        elif opstack.peek() == '(':\n",
    "            read = True\n",
    "        elif opstack.peek() == ')':\n",
    "            opstack.pop()\n",
    "            opstack.pop()\n",
    "    else:\n",
    "        read = True\n",
    "    if read:\n",
    "        i = text[cur]\n",
    "        if i in 'FT':\n",
    "            vstack.push(i)\n",
    "        if i in 'AXON()':\n",
    "            opstack.push(i)\n",
    "        cur += 1\n",
    "    \n",
    "\n",
    "    if cur == len(text) and len(opstack) == 0:\n",
    "        break\n",
    "\n",
    "while not vstack.is_empty():\n",
    "    print(vstack.pop())"
   ]
  },
  {
   "cell_type": "markdown",
   "metadata": {},
   "source": [
    "# Задание 10 \n",
    "Дан текстовый файл. В текстовом файле записана формула следующего вида:\n",
    "<Формула> ::= <Цифра> | M(<Формула>,<Формула>) | N(Формула>,<Формула>)\n",
    "< Цифра > ::= 0 | 1 | 2 | 3 | 4 | 5 | 6 | 7 | 8 | 9\n",
    "где буквами обозначены функции:\n",
    "M – определение максимума, N – определение минимума.\n",
    "Используя стек, вычислить значение заданного выражения."
   ]
  },
  {
   "cell_type": "code",
   "execution_count": 41,
   "metadata": {},
   "outputs": [
    {
     "name": "stdout",
     "output_type": "stream",
     "text": [
      "9\n"
     ]
    }
   ],
   "source": [
    "stack = Stack()\n",
    "def max_min(text):\n",
    "    for ch in text[::-1]:\n",
    "        if ch == 'M':\n",
    "            stack.push(max(stack.pop(), stack.pop()))\n",
    "        elif ch == 'N':\n",
    "            stack.push(min(stack.pop(), stack.pop()))\n",
    "        elif ch.isdigit():\n",
    "            stack.push(ch)\n",
    "        else:\n",
    "            continue\n",
    "    return stack.peek()\n",
    "\n",
    "with open('max_min.txt', 'r') as file:\n",
    "    message = file.readline()\n",
    "    print(max_min(message.rstrip()))"
   ]
  },
  {
   "cell_type": "markdown",
   "metadata": {},
   "source": [
    "## Задание 11\n",
    "Дан текстовый файл. Используя стек, проверить, является ли содержимое текстового файла правильной записью формулы вида:\n",
    "< Формула > ::= < Терм > | < Терм > + < Формула > | < Терм > - < Формула >\n",
    "< Терм > ::= < Имя > | (< Формула >)\n",
    "< Имя > ::= x | y | z"
   ]
  },
  {
   "cell_type": "code",
   "execution_count": 33,
   "metadata": {},
   "outputs": [
    {
     "name": "stdout",
     "output_type": "stream",
     "text": [
      "True\n"
     ]
    }
   ],
   "source": [
    "def is_possible_expression(text):\n",
    "    stack = Stack()\n",
    "\n",
    "    cur = 0\n",
    "    while True:\n",
    "        read = False\n",
    "        if not stack.is_empty():\n",
    "            if stack.peek() == '(':\n",
    "                read = True\n",
    "            elif stack.peek() == ')':\n",
    "                stack.pop()\n",
    "                if len(stack) < 2 or stack.pop() != 'formula' or stack.pop() != '(':\n",
    "                    return False\n",
    "                stack.push('formula')\n",
    "            elif stack.peek() == 'formula':\n",
    "                stack.pop()\n",
    "                if len(stack) > 1 and stack.peek() in '+-':\n",
    "                    if stack.pop() in '+-' and stack.pop() == 'formula':\n",
    "                        stack.push('formula')\n",
    "                    else:\n",
    "                        return False\n",
    "                else:\n",
    "                    stack.push('formula')\n",
    "                    read = True\n",
    "            else:\n",
    "                read = True\n",
    "        else:\n",
    "            read = True\n",
    "        if read:\n",
    "            i = text[cur]\n",
    "            if i in 'xyz':\n",
    "                stack.push('formula')\n",
    "            elif i in '()+-':\n",
    "                stack.push(i)\n",
    "            cur += 1\n",
    "        if cur == len(text) and len(stack) == 1:\n",
    "            break\n",
    "    return True\n",
    "\n",
    "\n",
    "with open('expression.txt', 'r') as file:\n",
    "    message = file.readline()\n",
    "    print(is_possible_expression(message.rstrip()))"
   ]
  },
  {
   "cell_type": "markdown",
   "metadata": {},
   "source": [
    "## Вывод\n",
    "В результате данной лабораторной работы были изучены основные свойства стека и дека и проделаны задачи с их использованием"
   ]
  },
  {
   "cell_type": "code",
   "execution_count": null,
   "metadata": {},
   "outputs": [],
   "source": []
  }
 ],
 "metadata": {
  "kernelspec": {
   "display_name": "Python 3",
   "language": "python",
   "name": "python3"
  },
  "language_info": {
   "codemirror_mode": {
    "name": "ipython",
    "version": 3
   },
   "file_extension": ".py",
   "mimetype": "text/x-python",
   "name": "python",
   "nbconvert_exporter": "python",
   "pygments_lexer": "ipython3",
   "version": "3.6.9"
  }
 },
 "nbformat": 4,
 "nbformat_minor": 4
}
