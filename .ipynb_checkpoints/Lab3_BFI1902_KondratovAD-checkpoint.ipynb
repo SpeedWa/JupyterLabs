{
 "cells": [
  {
   "cell_type": "markdown",
   "metadata": {},
   "source": [
    "# Лабораторная работа №3\n",
    "## Выполнил студент группы БФИ1902 Кондратов А.Д. \n",
    "### Задание №1"
   ]
  },
  {
   "cell_type": "markdown",
   "metadata": {},
   "source": [
    "### Метод Кнута-Морриса-Пратта"
   ]
  },
  {
   "cell_type": "code",
   "execution_count": 9,
   "metadata": {},
   "outputs": [
    {
     "name": "stdout",
     "output_type": "stream",
     "text": [
      "Исходный текст: очкастрочка\n",
      "Подстрока: очк\n",
      "Чувствительность к регистру:\n",
      "1-Выкл\n",
      "2-Вкл\n",
      "1\n",
      "[[0, 2], [7, 9]]\n"
     ]
    }
   ],
   "source": [
    "def prefixCalc(text, find):\n",
    "    new_text = find + \"#\" + text\n",
    "    prefix = []\n",
    "    for i in range(len(new_text)):\n",
    "        prefix.append(0)\n",
    "    for i in range(1, len(new_text)):\n",
    "        k = prefix[i - 1]\n",
    "        while k > 0 and new_text[k] != new_text[i]:\n",
    "            k = prefix[k - 1]\n",
    "        if new_text[k] == new_text[i]:\n",
    "            k += 1\n",
    "        prefix[i] = k\n",
    "    return prefix\n",
    "\n",
    "def searchKMP(text, find, ignore):\n",
    "    result = []\n",
    "    if ignore:\n",
    "        text = text.lower()\n",
    "        find = find.lower()    \n",
    "    prefix = prefixCalc(text, find)\n",
    "    prefix = prefix[len(find) + 1:]\n",
    "    for i in range(len(prefix)):\n",
    "        if prefix[i] == len(find):\n",
    "            result.append([i - len(find) + 1, i])\n",
    "    return result\n",
    "\n",
    "text = input(\"Исходный текст: \")\n",
    "search_str = input(\"Подстрока: \")\n",
    "\n",
    "print(\"Чувствительность к регистру:\\n1-Выкл\\n2-Вкл\")\n",
    "case = int(input())\n",
    "\n",
    "if(case == 1):\n",
    "    result = searchKMP(text,search_str,True)\n",
    "else:\n",
    "    result = searchKMP(text,search_str,False)\n",
    "\n",
    "print(result)"
   ]
  },
  {
   "cell_type": "markdown",
   "metadata": {},
   "source": [
    "### Метод Бойера-Мура"
   ]
  },
  {
   "cell_type": "code",
   "execution_count": 19,
   "metadata": {},
   "outputs": [
    {
     "name": "stdout",
     "output_type": "stream",
     "text": [
      "Исходный текст: colorbit\n",
      "Подстрока: bit\n",
      "Чувствительность к регистру:\n",
      "1-Выкл\n",
      "2-Вкл\n",
      "1\n",
      "[(5, 7)]\n"
     ]
    }
   ],
   "source": [
    "def tableCalc(find):\n",
    "    length = len(find)\n",
    "    table = []\n",
    "    for i in range(256):\n",
    "        table.append(length)\n",
    "    for i in range(length - 1):\n",
    "        table[ord(find[i])] = length - 1 - i\n",
    "    return table\n",
    "\n",
    "def searchBM(text, find, ignore):\n",
    "    result = []\n",
    "    nxt = 0\n",
    "    length=len(find)\n",
    "    if ignore:\n",
    "        text=text.lower()\n",
    "        find=find.lower()\n",
    "    table = tableCalc(find)\n",
    "    while len(text) - nxt >= length:\n",
    "        if text[nxt:(nxt + length)] == find:\n",
    "            result.append((nxt, nxt + length - 1))\n",
    "        nxt += table[ord(text[nxt + length - 1])]\n",
    "    return result\n",
    "\n",
    "text = input(\"Исходный текст: \")\n",
    "search_str = input(\"Подстрока: \")\n",
    "\n",
    "print(\"Чувствительность к регистру:\\n1-Выкл\\n2-Вкл\")\n",
    "case = int(input())\n",
    "\n",
    "if(case == 1):\n",
    "    result = searchBM(text,search_str,True)\n",
    "else:\n",
    "    result = searchBM(text,search_str,False)\n",
    "\n",
    "print(result)"
   ]
  },
  {
   "cell_type": "markdown",
   "metadata": {},
   "source": [
    "### Задание №2"
   ]
  },
  {
   "cell_type": "code",
   "execution_count": 20,
   "metadata": {},
   "outputs": [
    {
     "name": "stdout",
     "output_type": "stream",
     "text": [
      "Первоначальная позиция: \n",
      "   1  2  3  4\n",
      "  5  6  7  8\n",
      " 13  9 11 12\n",
      " 10 14 15  0\n",
      "\n",
      "Оптимальный путь к решению:\n",
      " [15, 14, 10, 13, 9, 10, 14, 15]\n"
     ]
    }
   ],
   "source": [
    "from queue import PriorityQueue\n",
    "\n",
    "N = 4\n",
    "\n",
    "# Движение пятнашек\n",
    "def moves(position):\n",
    "    blank = position.index(0)\n",
    "    i, j = divmod(blank, N)\n",
    "    offsets = []\n",
    "    if i > 0: offsets.append(-N)     # вниз\n",
    "    if i < N - 1: offsets.append(N)  # вверх\n",
    "    if j > 0: offsets.append(-1)     # вправо\n",
    "    if j < N - 1: offsets.append(1)  # влево\n",
    "    for offset in offsets:\n",
    "        swap = blank + offset\n",
    "        yield tuple(position[swap] if x==blank else position[blank] if x==swap else position[x] for x in range(N*N))\n",
    "\n",
    "# Функция для определения есть решение или нет\n",
    "def parity(permutation):\n",
    "    seen, cycles = set(), 0\n",
    "    for i in permutation:\n",
    "        if i not in seen:\n",
    "            cycles += 1\n",
    "            while i not in seen:\n",
    "                seen.add(i)\n",
    "                i = permutation[i]\n",
    "    return (cycles + len(permutation)) % 2\n",
    "\n",
    "# Класс позиции\n",
    "class Position:\n",
    "    # Конструктор класса, который принимает позицию и начальную дистанцию\n",
    "    def __init__(self, position, start_distance):\n",
    "        self.position = position\n",
    "        self.start_distance = start_distance\n",
    "\n",
    "    # Метод, который срабатывает при сравнении (<) объектта с другим объектом\n",
    "    def __lt__(self, other):\n",
    "        return self.start_distance < other.start_distance\n",
    "\n",
    "    # Метод, который срабатывает при использовании объекта как строки\n",
    "    def __str__(self):\n",
    "        return '\\n'.join((N*'{:3}').format(*[i%(N*N) for i in self.position[i:]]) for i in range(0, N*N, N))\n",
    "\n",
    "# Разгадка\n",
    "SOLVED = (1, 2, 3, 4, 5, 6, 7, 8, 9, 10, 11, 12, 13, 14, 15, 0)\n",
    "# Загадка\n",
    "start = [1, 2, 3, 4, 5, 6, 7, 8, 13, 9, 11, 12, 10, 14, 15, 0]\n",
    "\n",
    "# Смотрим, можно ли в данной расстановке найти решение\n",
    "# Если нет, то сообщаем об этом\n",
    "if parity(start) == 0:\n",
    "    print('Нерешаемо')\n",
    "# Иначе ищем этот путь\n",
    "else:\n",
    "    # Кортеж загадки\n",
    "    start = tuple(start)\n",
    "    \n",
    "    # Первоначальная позиция\n",
    "    p = Position(start, 0)\n",
    "    print(\"Первоначальная позиция: \" + \"\\n\", p)\n",
    "    print()\n",
    "    \n",
    "    # 1) Кладем в очередь с приоритетом первоначальную позицию\n",
    "    candidates = PriorityQueue()\n",
    "    candidates.put(p)\n",
    "\n",
    "    # Кортеж посещенных позиций\n",
    "    visited = set([p])\n",
    "\n",
    "    # Откуда пришли\n",
    "    came_from = {p.position: None}\n",
    "    \n",
    "    # Пока решение не найдено\n",
    "    while p.position != SOLVED:\n",
    "        # 2) Извлекаем из очереди позицию с наименьшим приоритетом\n",
    "        p = candidates.get()\n",
    "        # 3) Кладем в очередь все соседние позиции\n",
    "        # 4) Повторяем пункты 2-4 пока в пункте 2 не вытащим конечную позицию\n",
    "        for k in moves(p.position):\n",
    "            if k not in visited:\n",
    "                # В candifates хранятся всевозможные позиции\n",
    "                candidates.put(Position(k, p.start_distance + 1))\n",
    "                came_from[k] = p\n",
    "                visited.add(k)\n",
    "\n",
    "    # path - последовательное решение головоловки (путь)\n",
    "    path = []\n",
    "    # Сохраняем конечную позицию\n",
    "    prev = p\n",
    "    # Идем в обратном порядке и запоминаем очередность хода в path\n",
    "    while p.position != start:\n",
    "        # Запоминаем откуда ход\n",
    "        p = came_from[p.position]\n",
    "        number = p.position[prev.position.index(0)]\n",
    "        path.append(number)\n",
    "        prev = p\n",
    "    path.reverse()\n",
    "\n",
    "    print(\"Оптимальный путь к решению:\" + \"\\n\", path)"
   ]
  },
  {
   "cell_type": "code",
   "execution_count": null,
   "metadata": {},
   "outputs": [],
   "source": []
  }
 ],
 "metadata": {
  "kernelspec": {
   "display_name": "Python 3",
   "language": "python",
   "name": "python3"
  },
  "language_info": {
   "codemirror_mode": {
    "name": "ipython",
    "version": 3
   },
   "file_extension": ".py",
   "mimetype": "text/x-python",
   "name": "python",
   "nbconvert_exporter": "python",
   "pygments_lexer": "ipython3",
   "version": "3.6.9"
  }
 },
 "nbformat": 4,
 "nbformat_minor": 4
}
