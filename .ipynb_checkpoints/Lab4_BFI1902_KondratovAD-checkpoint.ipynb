{
 "cells": [
  {
   "cell_type": "markdown",
   "metadata": {},
   "source": [
    "# Лабораторная работа №4\n",
    "## Выполнил студент группы БФИ1902 Кондратов А.Д. "
   ]
  },
  {
   "cell_type": "markdown",
   "metadata": {},
   "source": [
    "### Реализация стека и очереди"
   ]
  },
  {
   "cell_type": "code",
   "execution_count": 2,
   "metadata": {},
   "outputs": [],
   "source": [
    "class ListItem:\n",
    "    next = None\n",
    "    prev = None\n",
    "    value = None\n",
    "\n",
    "    def __init__(self, value, prev=None, next=None):\n",
    "        self.value = value\n",
    "        self.prev = prev\n",
    "        self.next = next\n",
    "\n",
    "\n",
    "class Stack:\n",
    "    end = None\n",
    "\n",
    "    def __init__(self):\n",
    "        self.end = ListItem(None)\n",
    "\n",
    "    def push(self, value):\n",
    "        new_end = ListItem(value, self.end)\n",
    "        self.end = new_end\n",
    "\n",
    "    def pop(self):\n",
    "        value = self.end.value\n",
    "\n",
    "        if self.end.prev is not None:\n",
    "            self.end = self.end.prev\n",
    "\n",
    "        return value\n",
    "\n",
    "    def peek(self):\n",
    "        return self.end.value\n",
    "\n",
    "    def is_empty(self):\n",
    "        return self.end.value is None\n",
    "\n",
    "    def reverse(self):\n",
    "        tmp_stack = Stack()\n",
    "        tmp_stack2 = Stack()\n",
    "\n",
    "        while not self.is_empty():\n",
    "            tmp_stack.push(self.pop())\n",
    "\n",
    "        while not tmp_stack.is_empty():\n",
    "            tmp_stack2.push(tmp_stack.pop())\n",
    "\n",
    "        while not tmp_stack2.is_empty():\n",
    "            self.push(tmp_stack2.pop())\n",
    "\n",
    "            \n",
    "class Dequeue:\n",
    "    start = None\n",
    "    end = None\n",
    "\n",
    "    def __init__(self, n=1000):\n",
    "        self.start = self.end = ListItem(None)\n",
    "\n",
    "    def push_back(self, value):\n",
    "        if self.end.value is None:\n",
    "            self.end.value = value\n",
    "        else:\n",
    "            new_end = ListItem(value, self.end)\n",
    "            self.end.next = new_end\n",
    "            self.end = new_end\n",
    "\n",
    "    def push_front(self, value):\n",
    "        if self.start.value is None:\n",
    "            self.start.value = value\n",
    "        else:\n",
    "            new_start = ListItem(value, None, self.start)\n",
    "            self.start.prev = new_start\n",
    "            self.start = new_start\n",
    "\n",
    "    def pop_back(self):\n",
    "        value = self.end.value\n",
    "\n",
    "        if self.end.prev is not None:\n",
    "            self.end = self.end.prev\n",
    "            self.end.next = None\n",
    "        else:\n",
    "            self.end = self.start = ListItem(None)\n",
    "\n",
    "        return value\n",
    "\n",
    "    def pop_front(self):\n",
    "        value = self.start.value\n",
    "\n",
    "        if self.start.next is not None:\n",
    "            self.start = self.start.next\n",
    "            self.start.prev = None\n",
    "        else:\n",
    "            self.start = self.end = ListItem(None)\n",
    "\n",
    "        return value\n",
    "\n",
    "    def is_empty(self):\n",
    "        return (self.start.value is None) and (self.end.value is None)"
   ]
  },
  {
   "cell_type": "markdown",
   "metadata": {},
   "source": [
    "## Задание 1\n",
    "### Отсортировать строки файла, содержащие названия книг, в алфавитном порядке с использованием двух деков."
   ]
  },
  {
   "cell_type": "code",
   "execution_count": 8,
   "metadata": {},
   "outputs": [
    {
     "name": "stdout",
     "output_type": "stream",
     "text": [
      "['Barnabus', 'Ermollo', 'History of Milan', 'Permolive', 'Pierro', 'Scorching Grounds', 'Woodswork']\n"
     ]
    }
   ],
   "source": [
    "def sort_books(strings: list):\n",
    "    sorted_strings = []\n",
    "    main_dequeue = Dequeue()\n",
    "    tmp_dequeue = Dequeue()\n",
    "\n",
    "    for i in range(len(strings)):\n",
    "        last_item = main_dequeue.pop_back()\n",
    "\n",
    "        while (last_item is not None) and (strings[i] < last_item):\n",
    "            tmp_dequeue.push_back(last_item)\n",
    "            last_item = main_dequeue.pop_back()\n",
    "\n",
    "        if last_item is not None:\n",
    "            main_dequeue.push_back(last_item)\n",
    "\n",
    "        main_dequeue.push_back(strings[i])\n",
    "        \n",
    "        item = tmp_dequeue.pop_back()\n",
    "\n",
    "        while item is not None:\n",
    "            main_dequeue.push_back(item)\n",
    "            item = tmp_dequeue.pop_back()\n",
    "\n",
    "    item = main_dequeue.pop_front()\n",
    "\n",
    "    while item is not None:\n",
    "        sorted_strings.append(item)\n",
    "        item = main_dequeue.pop_front()\n",
    "\n",
    "    return sorted_strings\n",
    "\n",
    "\n",
    "strings = ['Permolive', 'Woodswork', 'Scorching Grounds', 'Barnabus', 'Pierro', 'History of Milan', 'Ermollo']\n",
    "print(sort_books(strings))"
   ]
  },
  {
   "cell_type": "markdown",
   "metadata": {},
   "source": [
    "## Задание 2\n",
    "### Дек содержит последовательность символов для шифровки сообщений. Дан текстовый файл, содержащий зашифрованное сообщение. Пользуясь деком, расшифровать текст. Известно, что при шифровке каждый символ сообщения заменялся следующим за ним в деке по часовой стрелке через один."
   ]
  },
  {
   "cell_type": "code",
   "execution_count": 7,
   "metadata": {},
   "outputs": [
    {
     "name": "stdout",
     "output_type": "stream",
     "text": [
      "yzab\n"
     ]
    }
   ],
   "source": [
    "def decrypt_text(text: str):\n",
    "    decrypted_text = ''\n",
    "    crypt_key = 'abcdefghigklmnopqrstuvwxyz'\n",
    "    dequeue = Dequeue()\n",
    "\n",
    "    for i in range(len(crypt_key)):\n",
    "        dequeue.push_back(crypt_key[i])\n",
    "\n",
    "    for i in range(len(text)):\n",
    "        char = None\n",
    "\n",
    "        while char != text[i]:\n",
    "            char = dequeue.pop_front()\n",
    "            dequeue.push_back(char)\n",
    "\n",
    "        for j in range(3):\n",
    "            dequeue.push_front(dequeue.pop_back())\n",
    "\n",
    "        original_char = dequeue.pop_front()\n",
    "        dequeue.push_back(original_char)\n",
    "\n",
    "        decrypted_text += original_char\n",
    "\n",
    "    return decrypted_text\n",
    "\n",
    "\n",
    "print(decrypt_text('abcd'))"
   ]
  },
  {
   "cell_type": "markdown",
   "metadata": {},
   "source": [
    "## Задание 3"
   ]
  },
  {
   "cell_type": "code",
   "execution_count": 28,
   "metadata": {},
   "outputs": [
    {
     "name": "stdout",
     "output_type": "stream",
     "text": [
      "[]\n"
     ]
    }
   ],
   "source": [
    "def disk_sort(strings: list):\n",
    "    stack_A = Stack()\n",
    "    stack_B = Stack()\n",
    "    stack_C = Stack()\n",
    "    final_string = []\n",
    "    \n",
    "    for i in range(len(strings[0])):\n",
    "        stack_A.push(strings[0][i])\n",
    "        \n",
    "    for i in range(len(strings[1])):\n",
    "        stack_C.push(strings[1][i])\n",
    "    \n",
    "    while (Stack_A.is_empty() != True):\n",
    "        \n",
    "    \n",
    "    return final_string\n",
    "\n",
    "disks = ['960', '753']\n",
    "print(disk_sort(disks))"
   ]
  },
  {
   "cell_type": "markdown",
   "metadata": {},
   "source": [
    "## Задание 4\n",
    "### Дан текстовый файл с программой на алгоритмическом языке. За один просмотр файла проверить баланс круглых скобок в тексте, используя стек."
   ]
  },
  {
   "cell_type": "code",
   "execution_count": 17,
   "metadata": {},
   "outputs": [
    {
     "name": "stdout",
     "output_type": "stream",
     "text": [
      "True\n",
      "False\n"
     ]
    }
   ],
   "source": [
    "def has_parenthesis_balance(string):\n",
    "    stack = Stack()\n",
    "\n",
    "    for i in range(len(string)):\n",
    "        if string[i] == '(':\n",
    "            stack.push('(')\n",
    "\n",
    "        if string[i] == ')':\n",
    "            stack.pop()\n",
    "\n",
    "    return stack.is_empty()\n",
    "    \n",
    "\n",
    "print(has_parenthesis_balance('((((aa)a)))'))\n",
    "print(has_parenthesis_balance('((((aa)a))'))"
   ]
  },
  {
   "cell_type": "markdown",
   "metadata": {},
   "source": [
    "## Задание 5\n",
    "### Дан текстовый файл с программой на алгоритмическом языке. За один просмотр файла проверить баланс квадратных скобок в тексте, используя дек."
   ]
  },
  {
   "cell_type": "code",
   "execution_count": 18,
   "metadata": {},
   "outputs": [
    {
     "name": "stdout",
     "output_type": "stream",
     "text": [
      "True\n",
      "False\n"
     ]
    }
   ],
   "source": [
    "def has_square_brackets_balance(string):\n",
    "    dequeue = Dequeue()\n",
    "\n",
    "    for i in range(len(string)):\n",
    "        if string[i] == '[':\n",
    "            dequeue.push_front('[')\n",
    "\n",
    "        if string[i] == ']':\n",
    "            dequeue.push_back(']')\n",
    "\n",
    "    opened_bracket = '['\n",
    "\n",
    "    while opened_bracket == '[':\n",
    "        closed_bracket = dequeue.pop_back()\n",
    "\n",
    "        if closed_bracket == ']':\n",
    "            opened_bracket = dequeue.pop_front()\n",
    "        else:\n",
    "            dequeue.push_back(closed_bracket)\n",
    "            break\n",
    "\n",
    "    return dequeue.is_empty()\n",
    "\n",
    "\n",
    "print(has_square_brackets_balance('[[[aaa]a]]'))\n",
    "print(has_square_brackets_balance('[[[aaaa]'))"
   ]
  },
  {
   "cell_type": "markdown",
   "metadata": {},
   "source": [
    "## Задание 6\n",
    "### Дан файл из символов. Используя стек, за один просмотр файла напечатать сначала все цифры, затем все буквы, и, наконец, все остальные символы, сохраняя исходный порядок в каждой группе символов."
   ]
  },
  {
   "cell_type": "code",
   "execution_count": 15,
   "metadata": {},
   "outputs": [
    {
     "name": "stdout",
     "output_type": "stream",
     "text": [
      "12331123stackdeck#\n"
     ]
    }
   ],
   "source": [
    "def separate_by_content(string):\n",
    "    final_string = ''\n",
    "    digits = Stack()\n",
    "    letters = Stack()\n",
    "    special_chars = Stack()\n",
    "\n",
    "    for i in range(len(string)):\n",
    "        char = string[i]\n",
    "\n",
    "        if ord(char) in range(ord('0'), ord('9') + 1):\n",
    "            digits.push(char)\n",
    "        elif ord(char) in range(ord('A'), ord('z') + 1):\n",
    "            letters.push(char)\n",
    "        else:\n",
    "            special_chars.push(char)\n",
    "\n",
    "    digits.reverse()\n",
    "    letters.reverse()\n",
    "    special_chars.reverse()\n",
    "\n",
    "    while not digits.is_empty():\n",
    "        final_string += digits.pop()\n",
    "\n",
    "    while not letters.is_empty():\n",
    "        final_string += letters.pop()\n",
    "\n",
    "    while not special_chars.is_empty():\n",
    "        final_string += special_chars.pop()\n",
    "\n",
    "    return final_string\n",
    "\n",
    "\n",
    "print(separate_by_content('stack12331deck#123'))"
   ]
  },
  {
   "cell_type": "markdown",
   "metadata": {},
   "source": [
    "## Задание 7\n",
    "### Дан файл из целых чисел. Используя дек, за один просмотр файла напечатать сначала все отрицательные числа, затем все положительные числа, сохраняя исходный порядок в каждой группе."
   ]
  },
  {
   "cell_type": "code",
   "execution_count": 14,
   "metadata": {},
   "outputs": [
    {
     "name": "stdout",
     "output_type": "stream",
     "text": [
      "-21 -1 0 15 16 19 44 \n"
     ]
    }
   ],
   "source": [
    "def sort_numbers(string):\n",
    "    final_string = ''\n",
    "    numbers = Dequeue()\n",
    "    string_numbers = string.split()\n",
    "\n",
    "    for i in range(len(string_numbers)):\n",
    "        number = int(string_numbers[i])\n",
    "\n",
    "        if number < 0:\n",
    "            numbers.push_back(number)\n",
    "        else:\n",
    "            numbers.push_front(number)\n",
    "\n",
    "    number = numbers.pop_front()\n",
    "\n",
    "    while number >= 0:\n",
    "        numbers.push_back(number)\n",
    "        number = numbers.pop_front()\n",
    "\n",
    "    final_string += str(number) + ' '\n",
    "\n",
    "    while number < 0:\n",
    "        number = numbers.pop_front()\n",
    "        final_string += str(number) + ' '\n",
    "\n",
    "    while not numbers.is_empty():\n",
    "        number = numbers.pop_back()\n",
    "        final_string += str(number) + ' '\n",
    "\n",
    "    return final_string\n",
    "\n",
    "\n",
    "print(sort_numbers('15 16 19 -21 44 -1 0'))"
   ]
  },
  {
   "cell_type": "markdown",
   "metadata": {},
   "source": [
    "## Задание 8\n",
    "### Дан текстовый файл. Используя стек, сформировать новый текстовый файл, содержащий строки исходного файла, записанные в обратном порядке: первая строка становится последней, вторая – предпоследней и т.д."
   ]
  },
  {
   "cell_type": "code",
   "execution_count": 10,
   "metadata": {},
   "outputs": [
    {
     "name": "stdout",
     "output_type": "stream",
     "text": [
      "['Third', 'Second', 'First']\n"
     ]
    }
   ],
   "source": [
    "def revert_strings(strings: list):\n",
    "    reverted_strings = []\n",
    "    stack = Stack()\n",
    "\n",
    "    for i in range(len(strings)):\n",
    "        stack.push(strings[i])\n",
    "\n",
    "    while not stack.is_empty():\n",
    "        reverted_strings.append(stack.pop())\n",
    "\n",
    "    return reverted_strings\n",
    "\n",
    "\n",
    "print(revert_strings(['First', 'Second', 'Third']))"
   ]
  },
  {
   "cell_type": "markdown",
   "metadata": {},
   "source": [
    "## Задание 11\n",
    "### Дан текстовый файл. Используя стек, проверить, является ли содержимое текстового файла правильной записью формулы вида:\n",
    "### < Формула > ::= < Терм > | < Терм > + < Формула > | < Терм > - < Формула >\n",
    "### < Терм > ::= < Имя > | (< Формула >)\n",
    "### < Имя > ::= x | y | z"
   ]
  },
  {
   "cell_type": "code",
   "execution_count": 19,
   "metadata": {},
   "outputs": [
    {
     "name": "stdout",
     "output_type": "stream",
     "text": [
      "False\n",
      "True\n"
     ]
    }
   ],
   "source": [
    "def is_possible_expression(term):\n",
    "    signs = Stack()\n",
    "    names = Stack()\n",
    "\n",
    "    for i in range(len(term)):\n",
    "        char = term[i]\n",
    "                \n",
    "        if char in ['x', 'y', 'z']:\n",
    "            if signs.is_empty() and not names.is_empty():\n",
    "                return False\n",
    "            signs.pop()\n",
    "            names.push(char)\n",
    "        elif char in ['+', '-']:\n",
    "            if names.is_empty():\n",
    "                return False\n",
    "            names.pop()\n",
    "            signs.push(char)\n",
    "        elif char == '(':\n",
    "            if signs.is_empty():\n",
    "                return False\n",
    "        elif char == ')':\n",
    "            if not signs.is_empty():\n",
    "                return False\n",
    "        else:\n",
    "            return False\n",
    "\n",
    "    return has_parenthesis_balance(term)\n",
    "\n",
    "\n",
    "print(is_possible_expression('x(+y'))\n",
    "print(is_possible_expression('x+y'))"
   ]
  },
  {
   "cell_type": "code",
   "execution_count": null,
   "metadata": {},
   "outputs": [],
   "source": []
  }
 ],
 "metadata": {
  "kernelspec": {
   "display_name": "Python 3",
   "language": "python",
   "name": "python3"
  },
  "language_info": {
   "codemirror_mode": {
    "name": "ipython",
    "version": 3
   },
   "file_extension": ".py",
   "mimetype": "text/x-python",
   "name": "python",
   "nbconvert_exporter": "python",
   "pygments_lexer": "ipython3",
   "version": "3.6.9"
  }
 },
 "nbformat": 4,
 "nbformat_minor": 4
}
