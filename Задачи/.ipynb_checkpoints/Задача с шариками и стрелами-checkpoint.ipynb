{
 "cells": [
  {
   "cell_type": "markdown",
   "id": "wooden-causing",
   "metadata": {},
   "source": [
    "# Задача с шариками и стрелами\n",
    "## Выполнил студент группы БФИ1902 Кондратов А.Д."
   ]
  },
  {
   "cell_type": "markdown",
   "id": "treated-joining",
   "metadata": {},
   "source": [
    "## Задание 1 \"Шарики и стрелы\"\n",
    "Некоторые сферические шарики распределены по двухмерному пространству. Для каждого\n",
    "шарика даны x­координаты начала и конца его горизонтального диаметра. Так как пространство\n",
    "двумерно, то y­координаты не имеют значения в данной задаче. Координата xstart всегда меньше\n",
    "xend.\n",
    "\n",
    "Стрелу можно выстрелить строго вертикально (вдоль y­оси) из разных точек x­оси. Шарик\n",
    "с координатами xstart и xend уничтожается стрелой, если она была выпущена из такой позиции\n",
    "x, что xstart ⩽ x ⩽ xend. Когда стрела выпущена, она летит в пространстве бесконечное время\n",
    "(уничтожая все шарики на пути).\n",
    "\n",
    "Дан массив points, где points[i] = [xstart, xend]. Напишите функцию, возвращающую минимальное количество стрел, которые нужно выпустить, чтобы уничтожить все шарики."
   ]
  },
  {
   "cell_type": "code",
   "execution_count": 2,
   "id": "satisfied-russian",
   "metadata": {},
   "outputs": [
    {
     "name": "stdout",
     "output_type": "stream",
     "text": [
      "Минимальное количество стрел\n",
      "[[10, 16], [2, 8], [1, 6], [7, 12]]: 2\n",
      "[[1, 2], [3, 4], [5, 6], [7, 8]]: 4\n",
      "[[1, 2], [2, 3], [3, 4], [4, 5]]: 2\n",
      "[[1, 2]]: 1\n",
      "[[2, 3], [2, 3]]: 1\n"
     ]
    }
   ],
   "source": [
    "def count_arrows_for_balloons(coordinates):\n",
    "    arrows = 0\n",
    "    last_intersections = coordinates\n",
    "\n",
    "    while True:\n",
    "        included_sections = []\n",
    "        curr_intersections = []\n",
    "\n",
    "        for i in range(0, len(last_intersections) - 1):\n",
    "            if last_intersections[i] is not None:\n",
    "                xi_start = last_intersections[i][0]\n",
    "                xi_end = last_intersections[i][1]\n",
    "\n",
    "                for j in range(i + 1, len(last_intersections)):\n",
    "                    if last_intersections[j] is not None:\n",
    "                        xj_start = last_intersections[j][0]\n",
    "                        xj_end = last_intersections[j][1]\n",
    "\n",
    "                        if not (xi_end < xj_start or xi_start > xj_end):\n",
    "                            if xi_start > xj_start:\n",
    "                                if xi_end < xj_end:\n",
    "                                    curr_intersections.append([xi_start, xi_end])\n",
    "                                else:\n",
    "                                    curr_intersections.append([xi_start, xj_end])\n",
    "                            else:\n",
    "                                if xi_end < xj_end:\n",
    "                                    curr_intersections.append([xj_start, xi_end])\n",
    "                                else:\n",
    "                                    curr_intersections.append([xj_start, xj_end])\n",
    "\n",
    "                            last_intersections[j] = None\n",
    "                            included_sections.append(last_intersections[i])\n",
    "\n",
    "        for i in range(len(last_intersections)):\n",
    "            if (last_intersections[i] is not None) and (last_intersections[i] not in included_sections):\n",
    "                arrows += 1\n",
    "\n",
    "        if len(curr_intersections) == 0:\n",
    "            return arrows + len(curr_intersections)\n",
    "\n",
    "        last_intersections = curr_intersections\n",
    "\n",
    "\n",
    "print('Минимальное количество стрел')\n",
    "\n",
    "print('[[10, 16], [2, 8], [1, 6], [7, 12]]:', count_arrows_for_balloons([[10, 16], [2, 8], [1, 6], [7, 12]]))\n",
    "print('[[1, 2], [3, 4], [5, 6], [7, 8]]:', count_arrows_for_balloons([[1, 2], [3, 4], [5, 6], [7, 8]]))\n",
    "print('[[1, 2], [2, 3], [3, 4], [4, 5]]:', count_arrows_for_balloons([[1, 2], [2, 3], [3, 4], [4, 5]]))\n",
    "print('[[1, 2]]:', count_arrows_for_balloons([[1, 2]]))\n",
    "print('[[2, 3], [2, 3]]:', count_arrows_for_balloons([[2, 3], [2, 3]]))"
   ]
  },
  {
   "cell_type": "code",
   "execution_count": null,
   "id": "native-methodology",
   "metadata": {},
   "outputs": [],
   "source": []
  }
 ],
 "metadata": {
  "kernelspec": {
   "display_name": "Python 3",
   "language": "python",
   "name": "python3"
  },
  "language_info": {
   "codemirror_mode": {
    "name": "ipython",
    "version": 3
   },
   "file_extension": ".py",
   "mimetype": "text/x-python",
   "name": "python",
   "nbconvert_exporter": "python",
   "pygments_lexer": "ipython3",
   "version": "3.6.9"
  }
 },
 "nbformat": 4,
 "nbformat_minor": 5
}
