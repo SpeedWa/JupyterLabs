{
 "cells": [
  {
   "cell_type": "markdown",
   "id": "normal-episode",
   "metadata": {},
   "source": [
    "# Задача с монетами\n",
    "## Выполнил студент группы БФИ1902 Кондратов А.Д."
   ]
  },
  {
   "cell_type": "markdown",
   "id": "julian-murray",
   "metadata": {},
   "source": [
    "## Задача 1 \"Стопки монет\"\n",
    "На столе стоят 3n стопок монет. Вы и ваши друзья Алиса и Боб забираете стопки монет по\n",
    "следующему алгоритму:\n",
    "1. Вы выбираете 3 стопки монет из оставшихся на столе.\n",
    "2. Алиса забирает себе стопку с максимальным количеством монет.\n",
    "3. Вы забираете одну из двух оставшихся стопок.\n",
    "4. Боб забирает последнюю стопку.\n",
    "5. Если еще остались стопки, то действия повторяются с первого шага.\n",
    "\n",
    "Дан массив целых положительных чисел piles. Напишите функцию, возвращающую максимальное число монет, которое вы можете получить."
   ]
  },
  {
   "cell_type": "code",
   "execution_count": 4,
   "id": "proved-portland",
   "metadata": {},
   "outputs": [
    {
     "name": "stdout",
     "output_type": "stream",
     "text": [
      "Суммарное количество монет у игрока:\n",
      "[1, 3, 2, 4, 8, 9]: 11\n",
      "[3, 5, 4]: 4\n",
      "[4, 6, 2, 7, 3, 1, 8, 4, 3]: 14\n"
     ]
    }
   ],
   "source": [
    "def get_max_pile_index(piles: list):\n",
    "    max_pile = float('-INF')\n",
    "    max_pile_index = -1\n",
    "\n",
    "    for i in range(len(piles)):\n",
    "        if piles[i] > max_pile:\n",
    "            max_pile = piles[i]\n",
    "            max_pile_index = i\n",
    "\n",
    "    return max_pile_index\n",
    "\n",
    "\n",
    "def get_min_pile_index(piles: list):\n",
    "    min_pile = float('INF')\n",
    "    min_pile_index = -1\n",
    "\n",
    "    for i in range(len(piles)):\n",
    "        if piles[i] < min_pile:\n",
    "            min_pile = piles[i]\n",
    "            min_pile_index = i\n",
    "\n",
    "    return min_pile_index\n",
    "\n",
    "\n",
    "def get_max_player_sum(piles: list):\n",
    "    player_sum = 0\n",
    "\n",
    "    while len(piles) > 2:\n",
    "        max_pile_index = get_max_pile_index(piles)\n",
    "        del piles[max_pile_index]\n",
    "\n",
    "        mid_pile_index = get_max_pile_index(piles)\n",
    "        player_sum += piles[mid_pile_index]\n",
    "        del piles[mid_pile_index]\n",
    "\n",
    "        min_pile_index = get_min_pile_index(piles)\n",
    "        del piles[min_pile_index]\n",
    "\n",
    "    return player_sum\n",
    "\n",
    "\n",
    "print('Суммарное количество монет у игрока:')\n",
    "print('[1, 3, 2, 4, 8, 9]:', get_max_player_sum([1, 3, 2, 4, 8, 9]))\n",
    "print('[3, 5, 4]:', get_max_player_sum([3, 5, 4]))\n",
    "print('[4, 6, 2, 7, 3, 1, 8, 4, 3]:', get_max_player_sum([4, 6, 2, 7, 3, 1, 8, 4, 3]))"
   ]
  },
  {
   "cell_type": "code",
   "execution_count": null,
   "id": "killing-wagon",
   "metadata": {},
   "outputs": [],
   "source": []
  }
 ],
 "metadata": {
  "kernelspec": {
   "display_name": "Python 3",
   "language": "python",
   "name": "python3"
  },
  "language_info": {
   "codemirror_mode": {
    "name": "ipython",
    "version": 3
   },
   "file_extension": ".py",
   "mimetype": "text/x-python",
   "name": "python",
   "nbconvert_exporter": "python",
   "pygments_lexer": "ipython3",
   "version": "3.6.9"
  }
 },
 "nbformat": 4,
 "nbformat_minor": 5
}
