{
 "cells": [
  {
   "cell_type": "markdown",
   "id": "wrapped-knock",
   "metadata": {},
   "source": [
    "# Задачи со строками\n",
    "## Выполнил студент группы БФИ1902 Кондратов А.Д."
   ]
  },
  {
   "cell_type": "markdown",
   "id": "ruled-criterion",
   "metadata": {},
   "source": [
    "## Задание 1\n",
    "Даны две строки: s1 и s2 с одинаковым размером, проверьте, может ли некоторая перестановка строки s1 “победить” некоторую перестановку строки s2 или наоборот. Строка x может “победить” строку y (обе имеют размер n), если x[i]> = y [i] (в алфавитном порядке) для всех i от 0 до n-1."
   ]
  },
  {
   "cell_type": "code",
   "execution_count": 8,
   "id": "governmental-portrait",
   "metadata": {},
   "outputs": [
    {
     "name": "stdout",
     "output_type": "stream",
     "text": [
      "True\n",
      "False\n"
     ]
    }
   ],
   "source": [
    "def min_winner_char_index(string, char):\n",
    "    min_winner_char = ''\n",
    "    min_winner_char_index = -1\n",
    "\n",
    "    for i in range(len(string)):\n",
    "        if string[i] >= char:\n",
    "            if min_winner_char == '':\n",
    "                min_winner_char = string[i]\n",
    "            elif min_winner_char > string[i]:\n",
    "                min_winner_char = string[i]\n",
    "\n",
    "            min_winner_char_index = i\n",
    "        else:\n",
    "            return min_winner_char_index\n",
    "\n",
    "    return min_winner_char_index\n",
    "\n",
    "\n",
    "def is_str_winner(string1, string2):\n",
    "    sorted_list_s1 = sorted(list(string1))\n",
    "    sorted_list_s2 = sorted(list(string2))\n",
    "    sorted_list_s1.reverse()\n",
    "    sorted_list_s2.reverse()\n",
    "\n",
    "    for i in range(len(sorted_list_s1)):\n",
    "        str_index = min_winner_char_index(sorted_list_s2, sorted_list_s1[i])\n",
    "\n",
    "        if str_index == -1:\n",
    "            return False\n",
    "        else:\n",
    "            del sorted_list_s2[str_index]\n",
    "\n",
    "    return True\n",
    "\n",
    "\n",
    "print(is_str_winner('abc', 'zra'))\n",
    "print(is_str_winner('abe', 'acb'))"
   ]
  },
  {
   "cell_type": "markdown",
   "id": "decreased-january",
   "metadata": {},
   "source": [
    "## Задание 2\n",
    "Дана строка s, вернуть самую длинную полиндромную подстроку в s."
   ]
  },
  {
   "cell_type": "code",
   "execution_count": 9,
   "id": "aggressive-visiting",
   "metadata": {},
   "outputs": [
    {
     "name": "stdout",
     "output_type": "stream",
     "text": [
      "Max palindrome:\n",
      "sassas\n",
      "abba\n",
      "bab\n"
     ]
    }
   ],
   "source": [
    "def is_palindrome(string):\n",
    "    length = len(string)\n",
    "\n",
    "    if length <= 1:\n",
    "        return False\n",
    "\n",
    "    for i in range(length):\n",
    "        if string[i] != string[length - 1 - i]:\n",
    "            return False\n",
    "\n",
    "    return True\n",
    "\n",
    "\n",
    "def max_palindrome(string):\n",
    "    length = len(string)\n",
    "    max_palindrome = ''\n",
    "    max_palindrome_length = 0\n",
    "\n",
    "    for i in range(length):\n",
    "        for j in range(i, length):\n",
    "            substring = string[i:j + 1]\n",
    "\n",
    "            if is_palindrome(substring):\n",
    "                if max_palindrome_length < len(substring):\n",
    "                    max_palindrome_length = len(substring)\n",
    "                    max_palindrome = substring\n",
    "            else:\n",
    "                continue\n",
    "\n",
    "    return max_palindrome\n",
    "\n",
    "\n",
    "print('Max palindrome:')\n",
    "\n",
    "print(max_palindrome('rqqrsassas'))\n",
    "print(max_palindrome('abba'))\n",
    "print(max_palindrome('qqbabad'))"
   ]
  },
  {
   "cell_type": "code",
   "execution_count": null,
   "id": "nervous-worth",
   "metadata": {},
   "outputs": [],
   "source": []
  }
 ],
 "metadata": {
  "kernelspec": {
   "display_name": "Python 3",
   "language": "python",
   "name": "python3"
  },
  "language_info": {
   "codemirror_mode": {
    "name": "ipython",
    "version": 3
   },
   "file_extension": ".py",
   "mimetype": "text/x-python",
   "name": "python",
   "nbconvert_exporter": "python",
   "pygments_lexer": "ipython3",
   "version": "3.6.9"
  }
 },
 "nbformat": 4,
 "nbformat_minor": 5
}
