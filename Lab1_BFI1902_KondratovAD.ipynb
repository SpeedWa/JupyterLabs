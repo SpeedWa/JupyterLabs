{
 "cells": [
  {
   "cell_type": "markdown",
   "id": "several-factory",
   "metadata": {},
   "source": [
    "# Лабораторная работа №1\n",
    "## Выполнил студент группы БФИ1902 Кондратов А.Д.\n",
    "### Задание №1"
   ]
  },
  {
   "cell_type": "code",
   "execution_count": 3,
   "id": "serial-muslim",
   "metadata": {},
   "outputs": [
    {
     "name": "stdout",
     "output_type": "stream",
     "text": [
      "Hello, World!\n"
     ]
    }
   ],
   "source": [
    "print(\"Hello, World!\")"
   ]
  },
  {
   "cell_type": "markdown",
   "id": "stone-premiere",
   "metadata": {},
   "source": [
    "### Задание №2"
   ]
  },
  {
   "cell_type": "code",
   "execution_count": 26,
   "id": "proper-disney",
   "metadata": {
    "scrolled": false
   },
   "outputs": [
    {
     "name": "stdout",
     "output_type": "stream",
     "text": [
      "5\n",
      "7\n",
      "\n",
      "\n",
      "-108 -15 844 180 18 -227 988 \n",
      "\n",
      "914 -51 578 -49 -231 514 -51 \n",
      "\n",
      "-129 788 -23 -191 147 417 819 \n",
      "\n",
      "729 159 -120 85 582 193 -12 \n",
      "\n",
      "416 -192 563 319 77 654 365 \n",
      "\n"
     ]
    }
   ],
   "source": [
    "import random\n",
    "\n",
    "m = int(input() or \"50\")\n",
    "n = int(input() or \"50\")\n",
    "min_limit = int(input() or \"-250\")\n",
    "max_limit = int(input() or \"1006\")\n",
    "new_array = [[random.randint(min_limit, max_limit) for row in range(0,n)] for row in range(0,m)]\n",
    "for i in range(m):\n",
    "         for j in range(n):\n",
    "             print(new_array[i][j],end=' ')\n",
    "         print(\"\\n\")"
   ]
  },
  {
   "cell_type": "markdown",
   "id": "foreign-bristol",
   "metadata": {},
   "source": [
    "### Задание №3"
   ]
  },
  {
   "cell_type": "code",
   "execution_count": 27,
   "id": "smooth-track",
   "metadata": {},
   "outputs": [
    {
     "name": "stdout",
     "output_type": "stream",
     "text": [
      "[-99, -84, -66, 34, 51]\n",
      "[-87, -62, -52, 36, 71]\n",
      "[-68, -58, -56, -45, 40]\n",
      "[-92, -63, -19, -10, 98]\n",
      "[-82, -57, -20, -14, 96]\n"
     ]
    }
   ],
   "source": [
    "import random\n",
    "def quicksort(array):\n",
    "   if len(array) <= 1:\n",
    "       return array\n",
    "   else:\n",
    "       q = random.choice(array)\n",
    "       smaller_array = []\n",
    "       bigger_array = []\n",
    "       equal_array = []\n",
    "       for n in array:\n",
    "           if n < q:\n",
    "               smaller_array.append(n)\n",
    "           elif n > q:\n",
    "               bigger_array.append(n)\n",
    "           else:\n",
    "               equal_array.append(n)\n",
    "       return quicksort(smaller_array) + equal_array + quicksort(bigger_array)\n",
    "\n",
    "new_array = [[random.randint(-100, 100) for row in range(0,5)] for row in range(0,5)]\n",
    "for i in range(5):\n",
    "    print(quicksort(new_array[i]))"
   ]
  },
  {
   "cell_type": "code",
   "execution_count": null,
   "id": "ready-trademark",
   "metadata": {},
   "outputs": [],
   "source": []
  }
 ],
 "metadata": {
  "kernelspec": {
   "display_name": "Python 3",
   "language": "python",
   "name": "python3"
  },
  "language_info": {
   "codemirror_mode": {
    "name": "ipython",
    "version": 3
   },
   "file_extension": ".py",
   "mimetype": "text/x-python",
   "name": "python",
   "nbconvert_exporter": "python",
   "pygments_lexer": "ipython3",
   "version": "3.6.9"
  }
 },
 "nbformat": 4,
 "nbformat_minor": 5
}
